{
  "nbformat": 4,
  "nbformat_minor": 0,
  "metadata": {
    "colab": {
      "provenance": [],
      "toc_visible": true,
      "include_colab_link": true
    },
    "kernelspec": {
      "name": "python3",
      "display_name": "Python 3"
    },
    "language_info": {
      "name": "python"
    }
  },
  "cells": [
    {
      "cell_type": "markdown",
      "metadata": {
        "id": "view-in-github",
        "colab_type": "text"
      },
      "source": [
        "<a href=\"https://colab.research.google.com/github/Zerg00s/Delete-me2/blob/main/CollectAllCrossroadsDurham.ipynb\" target=\"_parent\"><img src=\"https://colab.research.google.com/assets/colab-badge.svg\" alt=\"Open In Colab\"/></a>"
      ]
    },
    {
      "cell_type": "code",
      "execution_count": null,
      "metadata": {
        "colab": {
          "base_uri": "https://localhost:8080/"
        },
        "id": "P1sc_5ZCb20F",
        "outputId": "468d489e-7b9e-460b-b829-5460a65c32bb"
      },
      "outputs": [
        {
          "output_type": "stream",
          "name": "stdout",
          "text": [
            "Collecting overpy\n",
            "  Downloading overpy-0.7-py3-none-any.whl (14 kB)\n",
            "Installing collected packages: overpy\n",
            "Successfully installed overpy-0.7\n"
          ]
        }
      ],
      "source": [
        "!pip install overpy\n",
        "import numpy as np\n",
        "import pandas as pd\n",
        "import overpy"
      ]
    },
    {
      "cell_type": "code",
      "source": [
        "def split_area(south, west, north, east, rows, cols):\n",
        "    # Calculate the step size for each chunk\n",
        "    lat_step = (north - south) / rows\n",
        "    lon_step = (east - west) / cols\n",
        "\n",
        "    # List to hold the bounding boxes of all chunks\n",
        "    chunks = []\n",
        "\n",
        "    # Generate the bounding boxes for each chunk\n",
        "    for i in range(rows):\n",
        "        for j in range(cols):\n",
        "            # Calculate the bounding box for this chunk\n",
        "            chunk_south = south + i * lat_step\n",
        "            chunk_north = south + (i + 1) * lat_step\n",
        "            chunk_west = west + j * lon_step\n",
        "            chunk_east = west + (j + 1) * lon_step\n",
        "\n",
        "            # Add the chunk to the list\n",
        "            chunks.append((chunk_south, chunk_west, chunk_north, chunk_east))\n",
        "\n",
        "    return chunks"
      ],
      "metadata": {
        "id": "F52DT4RPg37K"
      },
      "execution_count": null,
      "outputs": []
    },
    {
      "cell_type": "code",
      "source": [
        "query_string = lambda so,we,no,ea: f'[out:json][timeout:300][bbox:{so},{we},{no},{ea}];'+\\\n",
        "'way[highway~\"^(motorway|trunk|primary|secondary|tertiary|residential)$\"] -> .allways;'+\\\n",
        "'foreach.allways -> .currentway((.allways; - .currentway;)->.otherways_unfiltered;'+\\\n",
        "'way.otherways_unfiltered -> .otherways;node(w.currentway)->.currentwaynodes;'+\\\n",
        "'node(w.otherways)->.otherwaynodes;node.currentwaynodes.otherwaynodes;out;);'\n",
        "\n",
        "coords = (44.291219,-79.106821,44.332039,-79.077399)\n",
        "\n",
        "api = overpy.Overpass()\n",
        "\n",
        "res = api.query(query_string(*coords))\n",
        "\n",
        "coord_set_of_large_block = split_area(43.784923, -79.344155, 44.272078, -78.415733, 10, 10)\n"
      ],
      "metadata": {
        "id": "I10RqVXgcWgY"
      },
      "execution_count": null,
      "outputs": []
    },
    {
      "cell_type": "code",
      "source": [
        "from tqdm import tqdm\n",
        "local_output = []\n",
        "for n,coords in enumerate(tqdm(coord_set_of_large_block)):\n",
        "    result = api.query(query_string(*coords))\n",
        "    for i in range(len(result.nodes)):\n",
        "        local_output.append((float(result.nodes[i].lon),float(result.nodes[i].lat)))\n",
        "\n",
        "coords = (44.258401, -79.262516, 44.525958, -79.00)\n",
        "result = api.query(query_string(*coords))\n",
        "for i in range(len(result.nodes)):\n",
        "    local_output.append((float(result.nodes[i].lon),float(result.nodes[i].lat)))\n",
        "\n",
        "df = pd.DataFrame(local_output)\n",
        "#df.to_csv('C:/Users/andri/OneDrive/Desktop/all_crossings_durham.csv', index=False, header = ['latitude','longitude'])\n"
      ],
      "metadata": {
        "colab": {
          "base_uri": "https://localhost:8080/"
        },
        "id": "DtoL9uI8ccvn",
        "outputId": "953c2486-4a6a-40ed-c152-38167155f235"
      },
      "execution_count": null,
      "outputs": [
        {
          "output_type": "stream",
          "name": "stderr",
          "text": [
            "100%|██████████| 100/100 [09:25<00:00,  5.66s/it]\n"
          ]
        }
      ]
    },
    {
      "cell_type": "code",
      "source": [],
      "metadata": {
        "id": "_upViU3Xcquo"
      },
      "execution_count": null,
      "outputs": []
    },
    {
      "cell_type": "markdown",
      "source": [],
      "metadata": {
        "id": "oVbVNRYje8dm"
      }
    }
  ]
}